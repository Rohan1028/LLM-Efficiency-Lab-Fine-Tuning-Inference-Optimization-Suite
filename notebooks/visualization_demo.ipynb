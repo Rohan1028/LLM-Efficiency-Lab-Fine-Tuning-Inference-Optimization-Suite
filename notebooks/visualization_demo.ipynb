﻿{
 "cells": [
  {
   "cell_type": "markdown",
   "metadata": {},
   "source": [
    "# Visualization Demo\n",
    "Interactive exploration of memory vs accuracy curves using Plotly."
   ]
  },
  {
   "cell_type": "code",
   "execution_count": null,
   "metadata": {},
   "outputs": [],
   "source": [
    "import pandas as pd\n",
    "from plotly import express as px\n",
    "\n",
    "records = [\n",
    "    {'method': 'LoRA', 'accuracy': 0.83, 'gpu_memory_gb': 8.2},\n",
    "    {'method': 'QLoRA', 'accuracy': 0.85, 'gpu_memory_gb': 6.1},\n",
    "    {'method': 'Full', 'accuracy': 0.88, 'gpu_memory_gb': 15.4},\n",
    "]\n",
    "df = pd.DataFrame(records)\n",
    "fig = px.scatter(df, x='gpu_memory_gb', y='accuracy', color='method', size='accuracy', title='Memory vs Accuracy')\n",
    "fig.show()"
   ]
  }
 ],
 "metadata": {
  "kernelspec": {
   "display_name": "Python 3",
   "language": "python",
   "name": "python3"
  },
  "language_info": {
   "name": "python",
   "version": "3.10"
  }
 },
 "nbformat": 4,
 "nbformat_minor": 5
}
